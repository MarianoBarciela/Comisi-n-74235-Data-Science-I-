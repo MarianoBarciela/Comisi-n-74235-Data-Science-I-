{
  "nbformat": 4,
  "nbformat_minor": 0,
  "metadata": {
    "colab": {
      "provenance": [],
      "authorship_tag": "ABX9TyPaLwyLPWCRT9cu8HZ8OuRr",
      "include_colab_link": true
    },
    "kernelspec": {
      "name": "python3",
      "display_name": "Python 3"
    },
    "language_info": {
      "name": "python"
    }
  },
  "cells": [
    {
      "cell_type": "markdown",
      "metadata": {
        "id": "view-in-github",
        "colab_type": "text"
      },
      "source": [
        "<a href=\"https://colab.research.google.com/github/MarianoBarciela/Comisi-n-74235-Data-Science-I-/blob/main/clase2/%20clase_2_practica.ipynb\" target=\"_parent\"><img src=\"https://colab.research.google.com/assets/colab-badge.svg\" alt=\"Open In Colab\"/></a>"
      ]
    },
    {
      "cell_type": "code",
      "execution_count": null,
      "metadata": {
        "id": "kiARexXXspBr"
      },
      "outputs": [],
      "source": [
        "# clase 2 practica\n"
      ]
    },
    {
      "cell_type": "code",
      "source": [
        "nombre = 'mariano'\n",
        "print (f'mi nombre es {nombre} y estoy aprendiendo ciencia de datos')"
      ],
      "metadata": {
        "colab": {
          "base_uri": "https://localhost:8080/"
        },
        "id": "_CpVu2iEswfI",
        "outputId": "272690be-204b-4686-9e03-36f3d060c145"
      },
      "execution_count": null,
      "outputs": [
        {
          "output_type": "stream",
          "name": "stdout",
          "text": [
            "mi nombre es mariano y estoy aprendiendo ciencia de datos\n"
          ]
        }
      ]
    },
    {
      "cell_type": "code",
      "source": [
        "edades= [25,30,50,200]\n",
        "print (f'edad maxima:{max(edades)}')\n",
        "print (f'edad promedio:{sum(edades)/len(edades):.2f}') # .2f quiere decir que se van a mostrar\n",
        "#2 decimales # promedio suma de todo dividido cant de objetos"
      ],
      "metadata": {
        "colab": {
          "base_uri": "https://localhost:8080/"
        },
        "id": "nEzJhV9GtzWl",
        "outputId": "3f7ed8ad-cd85-4a2c-8c4d-5789d83e2f67"
      },
      "execution_count": null,
      "outputs": [
        {
          "output_type": "stream",
          "name": "stdout",
          "text": [
            "edad maxima:200\n",
            "edad promedio:76.25\n"
          ]
        }
      ]
    },
    {
      "cell_type": "code",
      "source": [],
      "metadata": {
        "id": "Y_HEdvxblm13"
      },
      "execution_count": null,
      "outputs": []
    },
    {
      "cell_type": "code",
      "source": [
        "personas = {'ariel': 34, 'juan': 23, 'carla': 29, 'ramiro': 44}\n",
        "for nombre,edad in personas.items():\n",
        " if edad > 30:\n",
        "  print (f'{nombre} tiene {edad} años')"
      ],
      "metadata": {
        "colab": {
          "base_uri": "https://localhost:8080/"
        },
        "id": "jvfY1xnh0VS0",
        "outputId": "ee9a8c57-3dee-4fe5-fa3a-067a15234817"
      },
      "execution_count": null,
      "outputs": [
        {
          "output_type": "stream",
          "name": "stdout",
          "text": [
            "ariel tiene 34 años\n",
            "ramiro tiene 44 años\n"
          ]
        }
      ]
    },
    {
      "cell_type": "code",
      "source": [
        "def es_par(num):\n",
        " return num%2 == 0\n",
        "\n",
        "print(es_par(1))\n"
      ],
      "metadata": {
        "colab": {
          "base_uri": "https://localhost:8080/"
        },
        "id": "db679gSh-8IQ",
        "outputId": "2291b08b-4db2-454f-95a0-ba85b973c814"
      },
      "execution_count": null,
      "outputs": [
        {
          "output_type": "stream",
          "name": "stdout",
          "text": [
            "False\n"
          ]
        }
      ]
    },
    {
      "cell_type": "code",
      "source": [
        "def contar_positivos(lista):\n",
        "   return sum(1 for numero in lista if numero > 0 )\n",
        "\n",
        "print(contar_positivos([3,6,8,0,0,0,0,-1,-9]))"
      ],
      "metadata": {
        "colab": {
          "base_uri": "https://localhost:8080/"
        },
        "id": "pEY-4g8YfOLw",
        "outputId": "3613aac0-1c4a-4abd-ec6b-e49af7534d0b"
      },
      "execution_count": null,
      "outputs": [
        {
          "output_type": "stream",
          "name": "stdout",
          "text": [
            "3\n"
          ]
        }
      ]
    },
    {
      "cell_type": "code",
      "source": [
        "class persona:\n",
        "  def __init__(self,nombre,edad):\n",
        "    self.nombre = nombre\n",
        "    self.edad= edad\n",
        "\n",
        "  def saludar(self):\n",
        "\n",
        "      print(f'hola mi nombre es {self.nombre} y mi edad es {self.edad} años.')\n",
        "\n",
        "juan= persona('juan',30)\n",
        "juan.saludar()\n",
        "\n"
      ],
      "metadata": {
        "colab": {
          "base_uri": "https://localhost:8080/"
        },
        "id": "xvAwqkCUjZue",
        "outputId": "2d216944-aab1-45da-e199-e8a11e3a89d8"
      },
      "execution_count": null,
      "outputs": [
        {
          "output_type": "stream",
          "name": "stdout",
          "text": [
            "hola mi nombre es juan y mi edad es 30 años.\n"
          ]
        }
      ]
    },
    {
      "cell_type": "code",
      "source": [
        "class producto:\n",
        "  def __init__(self,nombre,precio,categoria):\n",
        "    self.nombre= nombre\n",
        "    self.precio=precio\n",
        "    self.categoria= categoria\n",
        "\n",
        "  def mostrar_producto(self):\n",
        "      print(f'el producto {self.nombre} tiene un valor de {self.precio} y entra dentro de la categoria {self.categoria}')\n",
        "\n",
        "tijera= producto('tijera',50,'libreria')\n",
        "tijera.mostrar_producto()\n"
      ],
      "metadata": {
        "colab": {
          "base_uri": "https://localhost:8080/"
        },
        "id": "w5cpV6qT5bRS",
        "outputId": "59968b02-76ca-41eb-9251-cd0003c8d163"
      },
      "execution_count": null,
      "outputs": [
        {
          "output_type": "stream",
          "name": "stdout",
          "text": [
            "el producto tijera tiene un valor de 50 y entra dentro de la categoria libreria\n"
          ]
        }
      ]
    },
    {
      "cell_type": "code",
      "source": [
        "# o bien usar return para poder utilizarlo mas tarde\n",
        "\n",
        "class producto:\n",
        "  def __init__(self,nombre,precio,categoria):\n",
        "    self.nombre= nombre\n",
        "    self.precio=precio\n",
        "    self.categoria= categoria\n",
        "\n",
        "  def mostrar_producto(self):\n",
        "     return f\"{self.nombre} (${self.precio}) Categoría: {self.categoria}\"\n",
        "\n",
        "p = producto(\"Notebook\", 3500, \"Electrónica\") # p es una variable, puedo modificarla desde aca y luego llamar nuevamente con p.mostrar_producto()\n",
        "\n",
        "print(p.mostrar_producto())\n"
      ],
      "metadata": {
        "colab": {
          "base_uri": "https://localhost:8080/"
        },
        "id": "Njb7xZPPBxhe",
        "outputId": "caa55d52-f5ee-48d9-ea6b-6f0cacac7d1c"
      },
      "execution_count": null,
      "outputs": [
        {
          "output_type": "stream",
          "name": "stdout",
          "text": [
            "Notebook ($3500) Categoría: Electrónica\n"
          ]
        }
      ]
    },
    {
      "cell_type": "code",
      "source": [
        "a = [1, 2, 3]\n",
        "b=a\n",
        "\n",
        "b.append(4) # append agrega un obejo a \"a\" puede ser numero,dict, o lo que sea.\n",
        "\n",
        "print(\"a:\", a)\n",
        "print(\"b:\", b)  #hace como un titulo para mostrar a: y los valores\n",
        "\n",
        "print(\"¿a y b son el mismo objeto?\", a is b) # a is b devuelve un booleano"
      ],
      "metadata": {
        "colab": {
          "base_uri": "https://localhost:8080/"
        },
        "id": "WNrmRAsSmXOr",
        "outputId": "add1eaf5-b651-4853-d823-01ad4ac020a3"
      },
      "execution_count": 8,
      "outputs": [
        {
          "output_type": "stream",
          "name": "stdout",
          "text": [
            "a: [1, 2, 3, 4]\n",
            "b: [1, 2, 3, 4]\n",
            "¿a y b son el mismo objeto? True\n"
          ]
        }
      ]
    },
    {
      "cell_type": "code",
      "source": [
        "a = [1, 2, 3]\n",
        "b = a.copy()   #aca creo una copia , ya no es una referencia, no es lo mismo que copy.copy (ver)"
      ],
      "metadata": {
        "id": "oOVdMgiRqidK"
      },
      "execution_count": null,
      "outputs": []
    },
    {
      "cell_type": "code",
      "source": [
        "class Caja:\n",
        "    def __init__(self, contenido):\n",
        "        self.contenido = contenido\n",
        "\n",
        "c1 = Caja(\"gatito\")\n",
        "c2 = c1  # Misma referencia\n",
        "\n",
        "c2.contenido = \"perrito\"\n",
        "\n",
        "print(\"Contenido de c1:\", c1.contenido)\n",
        "print(\"¿c1 y c2 son el mismo objeto?\", c1 is c2)"
      ],
      "metadata": {
        "colab": {
          "base_uri": "https://localhost:8080/"
        },
        "id": "-kWjcQtmyuVN",
        "outputId": "f34cee60-1b7a-44dc-afcd-3f8fa9133da6"
      },
      "execution_count": 25,
      "outputs": [
        {
          "output_type": "stream",
          "name": "stdout",
          "text": [
            "Contenido de c1: perrito\n",
            "¿c1 y c2 son el mismo objeto? True\n"
          ]
        }
      ]
    },
    {
      "cell_type": "code",
      "source": [
        "\n",
        "class Alumno:\n",
        "    def __init__(self, nombre, materia, nota):\n",
        "        self.nombre = nombre\n",
        "        self.materia = materia\n",
        "        self.nota = nota\n",
        "\n",
        "    def promedio(self):\n",
        "        return sum(self.nota) / len(self.nota)  # O usar round(...) si querés los decimales aca\n",
        "\n",
        "    def mostrar_promedio(self):\n",
        "        print(f\"El promedio de {self.nombre} en la materia {self.materia} es {self.promedio():.2f}\")\n",
        "\n",
        "# Cargar datos\n",
        "garcia = Alumno('Andres Garcia', 'data science', [8, 9, 5, 8, 6, 9, 6, 8, 2, 7])\n",
        "barciela = Alumno('Mariano Barciela', 'data science', [10, 8, 9, 7, 8, 8, 5, 10, 9, 6,])\n",
        "\n",
        "# Mostrar promedio de cada alumno\n",
        "garcia.mostrar_promedio()\n",
        "barciela.mostrar_promedio()\n",
        "\n",
        "#o bien\n",
        "\n",
        "garcia.promedio()"
      ],
      "metadata": {
        "colab": {
          "base_uri": "https://localhost:8080/"
        },
        "id": "-U9mFXjvzGbQ",
        "outputId": "d2d50491-d478-44a6-bd87-0240d8c11afa"
      },
      "execution_count": 91,
      "outputs": [
        {
          "output_type": "stream",
          "name": "stdout",
          "text": [
            "El promedio de Andres Garcia en la materia data science es 6.80\n",
            "El promedio de Mariano Barciela en la materia data science es 8.00\n"
          ]
        },
        {
          "output_type": "execute_result",
          "data": {
            "text/plain": [
              "6.8"
            ]
          },
          "metadata": {},
          "execution_count": 91
        }
      ]
    }
  ]
}