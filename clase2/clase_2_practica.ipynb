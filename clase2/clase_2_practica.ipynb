{
  "nbformat": 4,
  "nbformat_minor": 0,
  "metadata": {
    "colab": {
      "provenance": [],
      "authorship_tag": "ABX9TyPW1ssWeoQfYUjJuCtIxJ5s",
      "include_colab_link": true
    },
    "kernelspec": {
      "name": "python3",
      "display_name": "Python 3"
    },
    "language_info": {
      "name": "python"
    }
  },
  "cells": [
    {
      "cell_type": "markdown",
      "metadata": {
        "id": "view-in-github",
        "colab_type": "text"
      },
      "source": [
        "<a href=\"https://colab.research.google.com/github/MarianoBarciela/Comisi-n-74235-Data-Science-I-/blob/main/clase2/clase_2_practica.ipynb\" target=\"_parent\"><img src=\"https://colab.research.google.com/assets/colab-badge.svg\" alt=\"Open In Colab\"/></a>"
      ]
    },
    {
      "cell_type": "code",
      "execution_count": 1,
      "metadata": {
        "id": "kiARexXXspBr"
      },
      "outputs": [],
      "source": [
        "# clase 2 practica\n"
      ]
    },
    {
      "cell_type": "code",
      "source": [
        "nombre = 'mariano'\n",
        "print (f'mi nombre es {nombre} y estoy aprendiendo ciencia de datos')"
      ],
      "metadata": {
        "colab": {
          "base_uri": "https://localhost:8080/"
        },
        "id": "_CpVu2iEswfI",
        "outputId": "272690be-204b-4686-9e03-36f3d060c145"
      },
      "execution_count": 6,
      "outputs": [
        {
          "output_type": "stream",
          "name": "stdout",
          "text": [
            "mi nombre es mariano y estoy aprendiendo ciencia de datos\n"
          ]
        }
      ]
    },
    {
      "cell_type": "code",
      "source": [
        "edades= [25,30,50,200]\n",
        "print (f'edad maxima:{max(edades)}')\n",
        "print (f'edad promedio:{sum(edades)/len(edades):.2f}') # .2f quiere decir que se van a mostrar\n",
        "#2 decimales # promedio suma de todo dividido cant de objetos"
      ],
      "metadata": {
        "colab": {
          "base_uri": "https://localhost:8080/"
        },
        "id": "nEzJhV9GtzWl",
        "outputId": "3f7ed8ad-cd85-4a2c-8c4d-5789d83e2f67"
      },
      "execution_count": 87,
      "outputs": [
        {
          "output_type": "stream",
          "name": "stdout",
          "text": [
            "edad maxima:200\n",
            "edad promedio:76.25\n"
          ]
        }
      ]
    },
    {
      "cell_type": "code",
      "source": [
        "personas = {'ariel': 34, 'juan': 23, 'carla': 29, 'ramiro': 44}\n",
        "for nombre,edad in personas.items():\n",
        " if edad > 30:\n",
        "  print (f'{nombre} tiene {edad} años')"
      ],
      "metadata": {
        "colab": {
          "base_uri": "https://localhost:8080/"
        },
        "id": "jvfY1xnh0VS0",
        "outputId": "ee9a8c57-3dee-4fe5-fa3a-067a15234817"
      },
      "execution_count": 43,
      "outputs": [
        {
          "output_type": "stream",
          "name": "stdout",
          "text": [
            "ariel tiene 34 años\n",
            "ramiro tiene 44 años\n"
          ]
        }
      ]
    },
    {
      "cell_type": "code",
      "source": [
        "def es_par(num):\n",
        " return num%2 == 0\n",
        "\n",
        "print(es_par(1))\n",
        ""
      ],
      "metadata": {
        "colab": {
          "base_uri": "https://localhost:8080/"
        },
        "id": "db679gSh-8IQ",
        "outputId": "2291b08b-4db2-454f-95a0-ba85b973c814"
      },
      "execution_count": 66,
      "outputs": [
        {
          "output_type": "stream",
          "name": "stdout",
          "text": [
            "False\n"
          ]
        }
      ]
    },
    {
      "cell_type": "code",
      "source": [
        "def contar_positivos(lista):\n",
        "   return sum(1 for numero in lista if numero > 0 )\n",
        "\n",
        "print(contar_positivos([3,6,8,0,0,0,0,-1,-9]))"
      ],
      "metadata": {
        "colab": {
          "base_uri": "https://localhost:8080/"
        },
        "id": "pEY-4g8YfOLw",
        "outputId": "3613aac0-1c4a-4abd-ec6b-e49af7534d0b"
      },
      "execution_count": 74,
      "outputs": [
        {
          "output_type": "stream",
          "name": "stdout",
          "text": [
            "3\n"
          ]
        }
      ]
    },
    {
      "cell_type": "code",
      "source": [
        "class persona:\n",
        "  def __init__(self,nombre,edad):\n",
        "    self.nombre = nombre\n",
        "    self.edad= edad\n",
        "\n",
        "  def saludar(self):\n",
        "\n",
        "      print(f'hola mi nombre es {self.nombre} y mi edad es {self.edad} años.')\n",
        "\n",
        "juan= persona('juan',30)\n",
        "juan.saludar()\n",
        "\n"
      ],
      "metadata": {
        "colab": {
          "base_uri": "https://localhost:8080/"
        },
        "id": "xvAwqkCUjZue",
        "outputId": "2d216944-aab1-45da-e199-e8a11e3a89d8"
      },
      "execution_count": 84,
      "outputs": [
        {
          "output_type": "stream",
          "name": "stdout",
          "text": [
            "hola mi nombre es juan y mi edad es 30 años.\n"
          ]
        }
      ]
    },
    {
      "cell_type": "code",
      "source": [
        "class producto:\n",
        "  def __init__(self,nombre,precio,categoria):\n",
        "    self.nombre= nombre\n",
        "    self.precio=precio\n",
        "    self.categoria= categoria\n",
        "\n",
        "  def mostrar_producto(self):\n",
        "      print(f'el producto {self.nombre} tiene un valor de {self.precio} y entra dentro de la categoria {self.categoria}')\n",
        "\n",
        "tijera= producto('tijera',50,'libreria')\n",
        "tijera.mostrar_producto()\n",
        "\n",
        "\n",
        "\n",
        "\n",
        "\n",
        ""
      ],
      "metadata": {
        "colab": {
          "base_uri": "https://localhost:8080/"
        },
        "id": "w5cpV6qT5bRS",
        "outputId": "59968b02-76ca-41eb-9251-cd0003c8d163"
      },
      "execution_count": 100,
      "outputs": [
        {
          "output_type": "stream",
          "name": "stdout",
          "text": [
            "el producto tijera tiene un valor de 50 y entra dentro de la categoria libreria\n"
          ]
        }
      ]
    },
    {
      "cell_type": "code",
      "source": [
        "# o bien usar return para poder utilizarlo mas tarde\n",
        "\n",
        "class producto:\n",
        "  def __init__(self,nombre,precio,categoria):\n",
        "    self.nombre= nombre\n",
        "    self.precio=precio\n",
        "    self.categoria= categoria\n",
        "\n",
        "  def mostrar_producto(self):\n",
        "     return f\"{self.nombre} (${self.precio}) Categoría: {self.categoria}\"\n",
        "\n",
        "p = producto(\"Notebook\", 3500, \"Electrónica\")\n",
        "\n",
        "print(p.mostrar_producto())\n"
      ],
      "metadata": {
        "colab": {
          "base_uri": "https://localhost:8080/"
        },
        "id": "Njb7xZPPBxhe",
        "outputId": "caa55d52-f5ee-48d9-ea6b-6f0cacac7d1c"
      },
      "execution_count": 119,
      "outputs": [
        {
          "output_type": "stream",
          "name": "stdout",
          "text": [
            "Notebook ($3500) Categoría: Electrónica\n"
          ]
        }
      ]
    },
    {
      "cell_type": "code",
      "source": [],
      "metadata": {
        "colab": {
          "base_uri": "https://localhost:8080/",
          "height": 183
        },
        "id": "s4fS8xaHDT95",
        "outputId": "45da37f4-f7c8-46f4-f2a2-5cc40e20b923"
      },
      "execution_count": 114,
      "outputs": [
        {
          "output_type": "error",
          "ename": "NameError",
          "evalue": "name 'Producto' is not defined",
          "traceback": [
            "\u001b[0;31m---------------------------------------------------------------------------\u001b[0m",
            "\u001b[0;31mNameError\u001b[0m                                 Traceback (most recent call last)",
            "\u001b[0;32m<ipython-input-114-3759b33f122c>\u001b[0m in \u001b[0;36m<cell line: 0>\u001b[0;34m()\u001b[0m\n\u001b[0;32m----> 1\u001b[0;31m \u001b[0mp\u001b[0m \u001b[0;34m=\u001b[0m \u001b[0mProducto\u001b[0m\u001b[0;34m(\u001b[0m\u001b[0;34m\"Notebook\"\u001b[0m\u001b[0;34m,\u001b[0m \u001b[0;36m3500\u001b[0m\u001b[0;34m,\u001b[0m \u001b[0;34m\"Electrónica\"\u001b[0m\u001b[0;34m)\u001b[0m\u001b[0;34m\u001b[0m\u001b[0;34m\u001b[0m\u001b[0m\n\u001b[0m\u001b[1;32m      2\u001b[0m \u001b[0;34m\u001b[0m\u001b[0m\n\u001b[1;32m      3\u001b[0m \u001b[0mprint\u001b[0m\u001b[0;34m(\u001b[0m\u001b[0mp\u001b[0m\u001b[0;34m.\u001b[0m\u001b[0mmostrar_Producto\u001b[0m\u001b[0;34m(\u001b[0m\u001b[0;34m)\u001b[0m\u001b[0;34m)\u001b[0m\u001b[0;34m\u001b[0m\u001b[0;34m\u001b[0m\u001b[0m\n",
            "\u001b[0;31mNameError\u001b[0m: name 'Producto' is not defined"
          ]
        }
      ]
    }
  ]
}