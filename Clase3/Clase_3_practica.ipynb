{
  "nbformat": 4,
  "nbformat_minor": 0,
  "metadata": {
    "colab": {
      "provenance": [],
      "authorship_tag": "ABX9TyMhTQxNpQ4MFBCYlvJissv0",
      "include_colab_link": true
    },
    "kernelspec": {
      "name": "python3",
      "display_name": "Python 3"
    },
    "language_info": {
      "name": "python"
    }
  },
  "cells": [
    {
      "cell_type": "markdown",
      "metadata": {
        "id": "view-in-github",
        "colab_type": "text"
      },
      "source": [
        "<a href=\"https://colab.research.google.com/github/MarianoBarciela/Comisi-n-74235-Data-Science-I-/blob/main/Clase3/Clase_3_practica.ipynb\" target=\"_parent\"><img src=\"https://colab.research.google.com/assets/colab-badge.svg\" alt=\"Open In Colab\"/></a>"
      ]
    },
    {
      "cell_type": "markdown",
      "source": [],
      "metadata": {
        "id": "dmncRwNGnfT2"
      }
    },
    {
      "cell_type": "markdown",
      "source": [
        "Clase 3 Numpy y pandas Práctica 🧠"
      ],
      "metadata": {
        "id": "MC-xTNVRnn-_"
      }
    },
    {
      "cell_type": "code",
      "source": [
        "import numpy as np\n",
        "\n",
        "arr = np.arange(12)\n",
        "print (arr)\n",
        "arr_reshape = arr.reshape((4,3))\n",
        "print (arr_reshape)"
      ],
      "metadata": {
        "colab": {
          "base_uri": "https://localhost:8080/"
        },
        "id": "fV9OpDzHnwMh",
        "outputId": "834c40ed-5390-4e07-99c4-1986d1580fb9"
      },
      "execution_count": 2,
      "outputs": [
        {
          "output_type": "stream",
          "name": "stdout",
          "text": [
            "[ 0  1  2  3  4  5  6  7  8  9 10 11]\n",
            "[[ 0  1  2]\n",
            " [ 3  4  5]\n",
            " [ 6  7  8]\n",
            " [ 9 10 11]]\n"
          ]
        }
      ]
    },
    {
      "cell_type": "code",
      "source": [
        "import numpy as np\n",
        "\n",
        "# Crear dos arrays\n",
        "arr1 = np.array([1, 2, 3])\n",
        "arr2 = np.array([4, 5, 6])\n",
        "\n",
        "# Concatenar los arrays horizontalmente (por defecto)\n",
        "arr_concatenated = np.concatenate((arr1, arr2))\n",
        "\n",
        "print(arr_concatenated)\n"
      ],
      "metadata": {
        "colab": {
          "base_uri": "https://localhost:8080/"
        },
        "id": "ahWLMXrNopdS",
        "outputId": "0619bc01-1c48-4ae1-9098-69cc69ec450b"
      },
      "execution_count": 3,
      "outputs": [
        {
          "output_type": "stream",
          "name": "stdout",
          "text": [
            "[1 2 3 4 5 6]\n"
          ]
        }
      ]
    },
    {
      "cell_type": "code",
      "source": [
        "import numpy as np\n",
        "\n",
        "# Crear un array de 9 elementos\n",
        "arr = np.arange(9)\n",
        "\n",
        "# Dividir el array en 3 subarrays\n",
        "arr_split = np.split(arr, 3)\n",
        "\n",
        "print(arr_split)"
      ],
      "metadata": {
        "colab": {
          "base_uri": "https://localhost:8080/"
        },
        "id": "RNMFr0wnotgv",
        "outputId": "2f2191fe-bbbd-4611-8e2d-04f68fcd3bf2"
      },
      "execution_count": 4,
      "outputs": [
        {
          "output_type": "stream",
          "name": "stdout",
          "text": [
            "[array([0, 1, 2]), array([3, 4, 5]), array([6, 7, 8])]\n"
          ]
        }
      ]
    },
    {
      "cell_type": "code",
      "source": [
        "import numpy as np\n",
        "\n",
        "array_numeros= np.random.randint(0,100,size=10)  # numeros randoms lista del o al 100 y cantidad\n",
        "print ('array numeros:',array_numeros)\n",
        "\n",
        "media= np.mean(array_numeros)       # media\n",
        "print('media:',media)\n",
        "\n",
        "arr_reshape= array_numeros.reshape(5,2)   # reshape\n",
        "print(arr_reshape)"
      ],
      "metadata": {
        "colab": {
          "base_uri": "https://localhost:8080/"
        },
        "id": "6JwsZOyUo53F",
        "outputId": "04949901-a9e1-454c-c21c-9905052328d0"
      },
      "execution_count": 24,
      "outputs": [
        {
          "output_type": "stream",
          "name": "stdout",
          "text": [
            "array numeros: [12 13 63 30 65 61 25 72 57 95]\n",
            "media: 49.3\n",
            "[[12 13]\n",
            " [63 30]\n",
            " [65 61]\n",
            " [25 72]\n",
            " [57 95]]\n"
          ]
        }
      ]
    },
    {
      "cell_type": "code",
      "source": [
        "import numpy as np\n",
        "\n",
        "array_numeros= np.random.randint(12,900,20)\n",
        "print(array_numeros)\n",
        "media_numeros= np.median(array_numeros)\n",
        "print('Media:',media_numeros)\n"
      ],
      "metadata": {
        "colab": {
          "base_uri": "https://localhost:8080/"
        },
        "id": "22-G_8bQ1MK_",
        "outputId": "22ab29bf-00f3-42a4-83ba-f2536b33eaa1"
      },
      "execution_count": 43,
      "outputs": [
        {
          "output_type": "stream",
          "name": "stdout",
          "text": [
            "[612 604 765 718  77 450 411 394 507 708 892 580  95 580 813 686 372 890\n",
            " 149 765]\n",
            "Media: 592.0\n"
          ]
        }
      ]
    }
  ]
}